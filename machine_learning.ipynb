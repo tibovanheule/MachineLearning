{
  "nbformat": 4,
  "nbformat_minor": 0,
  "metadata": {
    "colab": {
      "provenance": [],
      "collapsed_sections": []
    },
    "kernelspec": {
      "name": "python3",
      "display_name": "Python 3"
    },
    "language_info": {
      "name": "python"
    }
  },
  "cells": [
    {
      "cell_type": "markdown",
      "source": [
        "**Machine Learning project**\n"
      ],
      "metadata": {
        "id": "H5XLSnFHrxIc"
      }
    },
    {
      "cell_type": "markdown",
      "source": [
        "**Instance-Space**\n"
      ],
      "metadata": {
        "id": "75T7R_ehr3MU"
      }
    },
    {
      "cell_type": "code",
      "execution_count": null,
      "metadata": {
        "id": "6xRf0rM6oahO",
        "colab": {
          "base_uri": "https://localhost:8080/"
        },
        "outputId": "f0adfdcc-8304-439b-97fd-da021eb8608e"
      },
      "outputs": [
        {
          "output_type": "stream",
          "name": "stdout",
          "text": [
            "instance space komt hier\n"
          ]
        }
      ],
      "source": [
        "print(\"instance space komt hier\")\n"
      ]
    },
    {
      "cell_type": "markdown",
      "source": [
        "**Bag-Space**"
      ],
      "metadata": {
        "id": "NpEi2X4ir8rk"
      }
    },
    {
      "cell_type": "markdown",
      "source": [
        "*CkNN*\n",
        "\n",
        "https://github.com/chlorochrule/cknn/blob/master/cknn/cknn.py"
      ],
      "metadata": {
        "id": "faWw_6VIy8hr"
      }
    },
    {
      "cell_type": "code",
      "source": [
        "pip install git+https://github.com/chlorochrule/cknn"
      ],
      "metadata": {
        "id": "TBvZXBosr_uG",
        "colab": {
          "base_uri": "https://localhost:8080/"
        },
        "outputId": "1936e27c-5e3f-4272-b413-f602a4b73b54"
      },
      "execution_count": null,
      "outputs": [
        {
          "output_type": "stream",
          "name": "stdout",
          "text": [
            "Looking in indexes: https://pypi.org/simple, https://us-python.pkg.dev/colab-wheels/public/simple/\n",
            "Collecting git+https://github.com/chlorochrule/cknn\n",
            "  Cloning https://github.com/chlorochrule/cknn to /tmp/pip-req-build-d682mzkx\n",
            "  Running command git clone -q https://github.com/chlorochrule/cknn /tmp/pip-req-build-d682mzkx\n",
            "  Installing build dependencies ... \u001b[?25l\u001b[?25hdone\n",
            "  Getting requirements to build wheel ... \u001b[?25l\u001b[?25hdone\n",
            "    Preparing wheel metadata ... \u001b[?25l\u001b[?25hdone\n",
            "Requirement already satisfied: numpy in /usr/local/lib/python3.7/dist-packages (from cknn==0.1.0) (1.21.6)\n",
            "Requirement already satisfied: matplotlib in /usr/local/lib/python3.7/dist-packages (from cknn==0.1.0) (3.2.2)\n",
            "Requirement already satisfied: scikit-learn in /usr/local/lib/python3.7/dist-packages (from cknn==0.1.0) (1.0.2)\n",
            "Requirement already satisfied: scipy in /usr/local/lib/python3.7/dist-packages (from cknn==0.1.0) (1.7.3)\n",
            "Requirement already satisfied: seaborn in /usr/local/lib/python3.7/dist-packages (from cknn==0.1.0) (0.11.2)\n",
            "Requirement already satisfied: pyparsing!=2.0.4,!=2.1.2,!=2.1.6,>=2.0.1 in /usr/local/lib/python3.7/dist-packages (from matplotlib->cknn==0.1.0) (3.0.9)\n",
            "Requirement already satisfied: kiwisolver>=1.0.1 in /usr/local/lib/python3.7/dist-packages (from matplotlib->cknn==0.1.0) (1.4.4)\n",
            "Requirement already satisfied: cycler>=0.10 in /usr/local/lib/python3.7/dist-packages (from matplotlib->cknn==0.1.0) (0.11.0)\n",
            "Requirement already satisfied: python-dateutil>=2.1 in /usr/local/lib/python3.7/dist-packages (from matplotlib->cknn==0.1.0) (2.8.2)\n",
            "Requirement already satisfied: typing-extensions in /usr/local/lib/python3.7/dist-packages (from kiwisolver>=1.0.1->matplotlib->cknn==0.1.0) (4.1.1)\n",
            "Requirement already satisfied: six>=1.5 in /usr/local/lib/python3.7/dist-packages (from python-dateutil>=2.1->matplotlib->cknn==0.1.0) (1.15.0)\n",
            "Requirement already satisfied: threadpoolctl>=2.0.0 in /usr/local/lib/python3.7/dist-packages (from scikit-learn->cknn==0.1.0) (3.1.0)\n",
            "Requirement already satisfied: joblib>=0.11 in /usr/local/lib/python3.7/dist-packages (from scikit-learn->cknn==0.1.0) (1.2.0)\n",
            "Requirement already satisfied: pandas>=0.23 in /usr/local/lib/python3.7/dist-packages (from seaborn->cknn==0.1.0) (1.3.5)\n",
            "Requirement already satisfied: pytz>=2017.3 in /usr/local/lib/python3.7/dist-packages (from pandas>=0.23->seaborn->cknn==0.1.0) (2022.6)\n"
          ]
        }
      ]
    },
    {
      "cell_type": "code",
      "source": [
        "import pandas as pd\n",
        "X = pd.read_table(\"./clean2.data\") #pd.read_csv(\"sample_data/mnist_test.csv\") "
      ],
      "metadata": {
        "id": "111HAmcXzfaI"
      },
      "execution_count": null,
      "outputs": []
    },
    {
      "cell_type": "code",
      "source": [
        "from cknn import cknneighbors_graph\n",
        "\n",
        "#ckng = cknneighbors_graph(X, n_neighbors=5, delta=1.0)"
      ],
      "metadata": {
        "id": "bJ5Z_R-2zCgc"
      },
      "execution_count": null,
      "outputs": []
    },
    {
      "cell_type": "code",
      "source": [
        "import numpy as np\n",
        "from sklearn.datasets import load_digits\n",
        "from sklearn.manifold import SpectralEmbedding\n",
        "import matplotlib.pyplot as plt\n",
        "from matplotlib import offsetbox\n",
        "import seaborn as sns\n",
        "\n",
        "from cknn import cknneighbors_graph\n",
        "\n",
        "sns.set()\n",
        "\n",
        "\n",
        "def plot2d_label(X, title=None):\n",
        "    digits = load_digits()\n",
        "    y = digits.target\n",
        "    x_min, x_max = np.min(X, 0), np.max(X, 0)\n",
        "    X = (X - x_min) / (x_max - x_min)\n",
        "\n",
        "    plt.figure()\n",
        "    ax = plt.subplot(111)\n",
        "    for i in range(X.shape[0]):\n",
        "        plt.text(X[i, 0], X[i, 1], str(digits.target[i]),\n",
        "                 color=plt.cm.Set1(y[i] / 10.),\n",
        "                 fontdict={'weight': 'bold', 'size': 9})\n",
        "\n",
        "    \n",
        "    plt.xticks([])\n",
        "    plt.yticks([])\n",
        "    if title is not None:\n",
        "        plt.title(title)\n",
        "    plt.show()\n",
        "\n",
        "\n",
        "def main():\n",
        "    data = X\n",
        "    print(data)\n",
        "    n_neighbors = 2\n",
        "\n",
        "    model_normal = SpectralEmbedding(n_components=2, n_neighbors=n_neighbors)\n",
        "    y_normal = model_normal.fit_transform(data)\n",
        "    plot2d_label(y_normal)\n",
        "\n",
        "    #ckng = cknneighbors_graph(data, n_neighbors=n_neighbors, delta=1.5)\n",
        "    #model_cknn = SpectralEmbedding(n_components=2, affinity='precomputed')\n",
        "    #y_cknn = model_cknn.fit_transform(ckng.toarray())\n",
        "    #plot2d_label(y_cknn)\n",
        "\n",
        "main()"
      ],
      "metadata": {
        "colab": {
          "base_uri": "https://localhost:8080/",
          "height": 626
        },
        "id": "yqlyFu8TzfyT",
        "outputId": "f1ca7a87-35da-4542-e15c-8fa0d32cb873"
      },
      "execution_count": null,
      "outputs": [
        {
          "output_type": "stream",
          "name": "stdout",
          "text": [
            "     MUSK-211,211_1+1,46,-108,-60,-69,-117,49,38,-161,-8,5,-323,-220,-113,-299,-283,-307,-31,-106,-227,-42,-59,-22,-67,189,81,17,-27,-89,-67,105,-116,124,-106,5,-120,63,-165,40,-27,68,-44,98,-33,-314,-282,-335,-144,-13,-197,-2,-144,-13,-11,-131,108,-43,42,-151,-4,8,-102,51,-15,108,-135,59,-166,20,-20,23,-48,-68,-299,-256,-97,-183,-24,-271,-229,-177,-6,0,-129,112,15,36,-66,-54,-75,132,-188,119,-120,-312,23,-55,-53,-26,-71,41,-55,148,-247,-306,-308,-230,-166,-35,-205,-280,-239,-53,-10,-23,25,-5,163,61,59,-39,92,72,113,-107,80,25,-27,81,-114,-187,45,-118,-75,-182,-234,-19,12,-13,-41,-119,-149,70,17,-20,-177,-101,-116,-14,-50,24,-81,-125,-114,-44,128,3,-244,-308,52,-7,39,126,156,-50,-112,96,1.\n",
            "0     MUSK-211,211_1+10,41,-188,-145,22,-117,-6,57,-...                                                                                                                                                                                                                                                                                                                                                                                                                                                                                                                                                                                                                                                                   \n",
            "1     MUSK-211,211_1+11,46,-194,-145,28,-117,73,57,-...                                                                                                                                                                                                                                                                                                                                                                                                                                                                                                                                                                                                                                                                   \n",
            "2     MUSK-211,211_1+12,41,-188,-145,22,-117,-7,57,-...                                                                                                                                                                                                                                                                                                                                                                                                                                                                                                                                                                                                                                                                   \n",
            "3     MUSK-211,211_1+13,41,-188,-145,22,-117,-7,57,-...                                                                                                                                                                                                                                                                                                                                                                                                                                                                                                                                                                                                                                                                   \n",
            "4     MUSK-211,211_1+14,46,-194,-145,28,-117,72,57,-...                                                                                                                                                                                                                                                                                                                                                                                                                                                                                                                                                                                                                                                                   \n",
            "...                                                 ...                                                                                                                                                                                                                                                                                                                                                                                                                                                                                                                                                                                                                                                                   \n",
            "6592  NON-MUSK-jp13,jp13_2+5,51,-123,-23,-108,-117,1...                                                                                                                                                                                                                                                                                                                                                                                                                                                                                                                                                                                                                                                                   \n",
            "6593  NON-MUSK-jp13,jp13_2+6,44,-104,-19,-105,-117,1...                                                                                                                                                                                                                                                                                                                                                                                                                                                                                                                                                                                                                                                                   \n",
            "6594  NON-MUSK-jp13,jp13_2+7,44,-102,-19,-104,-117,7...                                                                                                                                                                                                                                                                                                                                                                                                                                                                                                                                                                                                                                                                   \n",
            "6595  NON-MUSK-jp13,jp13_2+8,51,-121,-23,-106,-117,6...                                                                                                                                                                                                                                                                                                                                                                                                                                                                                                                                                                                                                                                                   \n",
            "6596  NON-MUSK-jp13,jp13_2+9,51,-122,-23,-106,-117,1...                                                                                                                                                                                                                                                                                                                                                                                                                                                                                                                                                                                                                                                                   \n",
            "\n",
            "[6597 rows x 1 columns]\n"
          ]
        },
        {
          "output_type": "error",
          "ename": "ValueError",
          "evalue": "ignored",
          "traceback": [
            "\u001b[0;31m---------------------------------------------------------------------------\u001b[0m",
            "\u001b[0;31mValueError\u001b[0m                                Traceback (most recent call last)",
            "\u001b[0;32m<ipython-input-19-43ee63d835e0>\u001b[0m in \u001b[0;36m<module>\u001b[0;34m\u001b[0m\n\u001b[1;32m     46\u001b[0m     \u001b[0;31m#plot2d_label(y_cknn)\u001b[0m\u001b[0;34m\u001b[0m\u001b[0;34m\u001b[0m\u001b[0;34m\u001b[0m\u001b[0m\n\u001b[1;32m     47\u001b[0m \u001b[0;34m\u001b[0m\u001b[0m\n\u001b[0;32m---> 48\u001b[0;31m \u001b[0mmain\u001b[0m\u001b[0;34m(\u001b[0m\u001b[0;34m)\u001b[0m\u001b[0;34m\u001b[0m\u001b[0;34m\u001b[0m\u001b[0m\n\u001b[0m",
            "\u001b[0;32m<ipython-input-19-43ee63d835e0>\u001b[0m in \u001b[0;36mmain\u001b[0;34m()\u001b[0m\n\u001b[1;32m     38\u001b[0m \u001b[0;34m\u001b[0m\u001b[0m\n\u001b[1;32m     39\u001b[0m     \u001b[0mmodel_normal\u001b[0m \u001b[0;34m=\u001b[0m \u001b[0mSpectralEmbedding\u001b[0m\u001b[0;34m(\u001b[0m\u001b[0mn_components\u001b[0m\u001b[0;34m=\u001b[0m\u001b[0;36m2\u001b[0m\u001b[0;34m,\u001b[0m \u001b[0mn_neighbors\u001b[0m\u001b[0;34m=\u001b[0m\u001b[0mn_neighbors\u001b[0m\u001b[0;34m)\u001b[0m\u001b[0;34m\u001b[0m\u001b[0;34m\u001b[0m\u001b[0m\n\u001b[0;32m---> 40\u001b[0;31m     \u001b[0my_normal\u001b[0m \u001b[0;34m=\u001b[0m \u001b[0mmodel_normal\u001b[0m\u001b[0;34m.\u001b[0m\u001b[0mfit_transform\u001b[0m\u001b[0;34m(\u001b[0m\u001b[0mdata\u001b[0m\u001b[0;34m)\u001b[0m\u001b[0;34m\u001b[0m\u001b[0;34m\u001b[0m\u001b[0m\n\u001b[0m\u001b[1;32m     41\u001b[0m     \u001b[0mplot2d_label\u001b[0m\u001b[0;34m(\u001b[0m\u001b[0my_normal\u001b[0m\u001b[0;34m)\u001b[0m\u001b[0;34m\u001b[0m\u001b[0;34m\u001b[0m\u001b[0m\n\u001b[1;32m     42\u001b[0m \u001b[0;34m\u001b[0m\u001b[0m\n",
            "\u001b[0;32m/usr/local/lib/python3.7/dist-packages/sklearn/manifold/_spectral_embedding.py\u001b[0m in \u001b[0;36mfit_transform\u001b[0;34m(self, X, y)\u001b[0m\n\u001b[1;32m    675\u001b[0m             \u001b[0mSpectral\u001b[0m \u001b[0membedding\u001b[0m \u001b[0mof\u001b[0m \u001b[0mthe\u001b[0m \u001b[0mtraining\u001b[0m \u001b[0mmatrix\u001b[0m\u001b[0;34m.\u001b[0m\u001b[0;34m\u001b[0m\u001b[0;34m\u001b[0m\u001b[0m\n\u001b[1;32m    676\u001b[0m         \"\"\"\n\u001b[0;32m--> 677\u001b[0;31m         \u001b[0mself\u001b[0m\u001b[0;34m.\u001b[0m\u001b[0mfit\u001b[0m\u001b[0;34m(\u001b[0m\u001b[0mX\u001b[0m\u001b[0;34m)\u001b[0m\u001b[0;34m\u001b[0m\u001b[0;34m\u001b[0m\u001b[0m\n\u001b[0m\u001b[1;32m    678\u001b[0m         \u001b[0;32mreturn\u001b[0m \u001b[0mself\u001b[0m\u001b[0;34m.\u001b[0m\u001b[0membedding_\u001b[0m\u001b[0;34m\u001b[0m\u001b[0;34m\u001b[0m\u001b[0m\n",
            "\u001b[0;32m/usr/local/lib/python3.7/dist-packages/sklearn/manifold/_spectral_embedding.py\u001b[0m in \u001b[0;36mfit\u001b[0;34m(self, X, y)\u001b[0m\n\u001b[1;32m    621\u001b[0m \u001b[0;34m\u001b[0m\u001b[0m\n\u001b[1;32m    622\u001b[0m         X = self._validate_data(\n\u001b[0;32m--> 623\u001b[0;31m             \u001b[0mX\u001b[0m\u001b[0;34m,\u001b[0m \u001b[0maccept_sparse\u001b[0m\u001b[0;34m=\u001b[0m\u001b[0;34m\"csr\"\u001b[0m\u001b[0;34m,\u001b[0m \u001b[0mensure_min_samples\u001b[0m\u001b[0;34m=\u001b[0m\u001b[0;36m2\u001b[0m\u001b[0;34m,\u001b[0m \u001b[0mestimator\u001b[0m\u001b[0;34m=\u001b[0m\u001b[0mself\u001b[0m\u001b[0;34m\u001b[0m\u001b[0;34m\u001b[0m\u001b[0m\n\u001b[0m\u001b[1;32m    624\u001b[0m         )\n\u001b[1;32m    625\u001b[0m \u001b[0;34m\u001b[0m\u001b[0m\n",
            "\u001b[0;32m/usr/local/lib/python3.7/dist-packages/sklearn/base.py\u001b[0m in \u001b[0;36m_validate_data\u001b[0;34m(self, X, y, reset, validate_separately, **check_params)\u001b[0m\n\u001b[1;32m    564\u001b[0m             \u001b[0;32mraise\u001b[0m \u001b[0mValueError\u001b[0m\u001b[0;34m(\u001b[0m\u001b[0;34m\"Validation should be done on X, y or both.\"\u001b[0m\u001b[0;34m)\u001b[0m\u001b[0;34m\u001b[0m\u001b[0;34m\u001b[0m\u001b[0m\n\u001b[1;32m    565\u001b[0m         \u001b[0;32melif\u001b[0m \u001b[0;32mnot\u001b[0m \u001b[0mno_val_X\u001b[0m \u001b[0;32mand\u001b[0m \u001b[0mno_val_y\u001b[0m\u001b[0;34m:\u001b[0m\u001b[0;34m\u001b[0m\u001b[0;34m\u001b[0m\u001b[0m\n\u001b[0;32m--> 566\u001b[0;31m             \u001b[0mX\u001b[0m \u001b[0;34m=\u001b[0m \u001b[0mcheck_array\u001b[0m\u001b[0;34m(\u001b[0m\u001b[0mX\u001b[0m\u001b[0;34m,\u001b[0m \u001b[0;34m**\u001b[0m\u001b[0mcheck_params\u001b[0m\u001b[0;34m)\u001b[0m\u001b[0;34m\u001b[0m\u001b[0;34m\u001b[0m\u001b[0m\n\u001b[0m\u001b[1;32m    567\u001b[0m             \u001b[0mout\u001b[0m \u001b[0;34m=\u001b[0m \u001b[0mX\u001b[0m\u001b[0;34m\u001b[0m\u001b[0;34m\u001b[0m\u001b[0m\n\u001b[1;32m    568\u001b[0m         \u001b[0;32melif\u001b[0m \u001b[0mno_val_X\u001b[0m \u001b[0;32mand\u001b[0m \u001b[0;32mnot\u001b[0m \u001b[0mno_val_y\u001b[0m\u001b[0;34m:\u001b[0m\u001b[0;34m\u001b[0m\u001b[0;34m\u001b[0m\u001b[0m\n",
            "\u001b[0;32m/usr/local/lib/python3.7/dist-packages/sklearn/utils/validation.py\u001b[0m in \u001b[0;36mcheck_array\u001b[0;34m(array, accept_sparse, accept_large_sparse, dtype, order, copy, force_all_finite, ensure_2d, allow_nd, ensure_min_samples, ensure_min_features, estimator)\u001b[0m\n\u001b[1;32m    744\u001b[0m                     \u001b[0marray\u001b[0m \u001b[0;34m=\u001b[0m \u001b[0marray\u001b[0m\u001b[0;34m.\u001b[0m\u001b[0mastype\u001b[0m\u001b[0;34m(\u001b[0m\u001b[0mdtype\u001b[0m\u001b[0;34m,\u001b[0m \u001b[0mcasting\u001b[0m\u001b[0;34m=\u001b[0m\u001b[0;34m\"unsafe\"\u001b[0m\u001b[0;34m,\u001b[0m \u001b[0mcopy\u001b[0m\u001b[0;34m=\u001b[0m\u001b[0;32mFalse\u001b[0m\u001b[0;34m)\u001b[0m\u001b[0;34m\u001b[0m\u001b[0;34m\u001b[0m\u001b[0m\n\u001b[1;32m    745\u001b[0m                 \u001b[0;32melse\u001b[0m\u001b[0;34m:\u001b[0m\u001b[0;34m\u001b[0m\u001b[0;34m\u001b[0m\u001b[0m\n\u001b[0;32m--> 746\u001b[0;31m                     \u001b[0marray\u001b[0m \u001b[0;34m=\u001b[0m \u001b[0mnp\u001b[0m\u001b[0;34m.\u001b[0m\u001b[0masarray\u001b[0m\u001b[0;34m(\u001b[0m\u001b[0marray\u001b[0m\u001b[0;34m,\u001b[0m \u001b[0morder\u001b[0m\u001b[0;34m=\u001b[0m\u001b[0morder\u001b[0m\u001b[0;34m,\u001b[0m \u001b[0mdtype\u001b[0m\u001b[0;34m=\u001b[0m\u001b[0mdtype\u001b[0m\u001b[0;34m)\u001b[0m\u001b[0;34m\u001b[0m\u001b[0;34m\u001b[0m\u001b[0m\n\u001b[0m\u001b[1;32m    747\u001b[0m             \u001b[0;32mexcept\u001b[0m \u001b[0mComplexWarning\u001b[0m \u001b[0;32mas\u001b[0m \u001b[0mcomplex_warning\u001b[0m\u001b[0;34m:\u001b[0m\u001b[0;34m\u001b[0m\u001b[0;34m\u001b[0m\u001b[0m\n\u001b[1;32m    748\u001b[0m                 raise ValueError(\n",
            "\u001b[0;32m/usr/local/lib/python3.7/dist-packages/pandas/core/generic.py\u001b[0m in \u001b[0;36m__array__\u001b[0;34m(self, dtype)\u001b[0m\n\u001b[1;32m   1991\u001b[0m \u001b[0;34m\u001b[0m\u001b[0m\n\u001b[1;32m   1992\u001b[0m     \u001b[0;32mdef\u001b[0m \u001b[0m__array__\u001b[0m\u001b[0;34m(\u001b[0m\u001b[0mself\u001b[0m\u001b[0;34m,\u001b[0m \u001b[0mdtype\u001b[0m\u001b[0;34m:\u001b[0m \u001b[0mNpDtype\u001b[0m \u001b[0;34m|\u001b[0m \u001b[0;32mNone\u001b[0m \u001b[0;34m=\u001b[0m \u001b[0;32mNone\u001b[0m\u001b[0;34m)\u001b[0m \u001b[0;34m->\u001b[0m \u001b[0mnp\u001b[0m\u001b[0;34m.\u001b[0m\u001b[0mndarray\u001b[0m\u001b[0;34m:\u001b[0m\u001b[0;34m\u001b[0m\u001b[0;34m\u001b[0m\u001b[0m\n\u001b[0;32m-> 1993\u001b[0;31m         \u001b[0;32mreturn\u001b[0m \u001b[0mnp\u001b[0m\u001b[0;34m.\u001b[0m\u001b[0masarray\u001b[0m\u001b[0;34m(\u001b[0m\u001b[0mself\u001b[0m\u001b[0;34m.\u001b[0m\u001b[0m_values\u001b[0m\u001b[0;34m,\u001b[0m \u001b[0mdtype\u001b[0m\u001b[0;34m=\u001b[0m\u001b[0mdtype\u001b[0m\u001b[0;34m)\u001b[0m\u001b[0;34m\u001b[0m\u001b[0;34m\u001b[0m\u001b[0m\n\u001b[0m\u001b[1;32m   1994\u001b[0m \u001b[0;34m\u001b[0m\u001b[0m\n\u001b[1;32m   1995\u001b[0m     def __array_wrap__(\n",
            "\u001b[0;31mValueError\u001b[0m: could not convert string to float: 'MUSK-211,211_1+10,41,-188,-145,22,-117,-6,57,-171,-39,-100,-319,-111,-228,-281,-281,-300,54,-149,-98,-196,-27,-22,2,75,49,-34,45,-91,32,95,-116,85,-23,42,-58,61,-171,2,-144,38,-153,113,-166,-318,-241,-329,-97,-69,-108,-179,-71,-27,-12,-133,107,-96,92,-140,48,26,-62,2,13,58,-12,59,-166,-85,-131,-57,-156,-121,-285,-189,-255,-181,2,-284,-103,-186,-18,15,-31,127,-5,24,-82,-168,10,79,-200,82,14,-101,28,-52,-43,31,-156,79,-158,137,-281,-305,-294,-262,-165,-117,-244,-246,-231,3,-2,-3,15,49,99,37,84,22,66,131,109,-77,-10,-17,17,88,-21,-32,32,-128,-72,-124,-218,-94,53,-79,-20,-35,-26,4,50,17,-177,-102,-121,-66,-77,51,-41,-34,-32,-63,115,-5,-235,-59,-2,52,103,136,169,-61,-136,79,1.'"
          ]
        }
      ]
    },
    {
      "cell_type": "code",
      "source": [
        "import numpy as np\n",
        "from sklearn.datasets import load_digits\n",
        "from sklearn.manifold import SpectralEmbedding\n",
        "import matplotlib.pyplot as plt\n",
        "from matplotlib import offsetbox\n",
        "import seaborn as sns\n",
        "\n",
        "sns.set()\n",
        "\n",
        "\n",
        "def plot2d_label(X, title=None):\n",
        "    y = X[1]\n",
        "    x_min, x_max = np.min(X[0], 0), np.max(X[0], 0)\n",
        "    X = (X - x_min) / (x_max - x_min)\n",
        "\n",
        "    plt.figure()\n",
        "    plt.xticks([])\n",
        "    plt.yticks([])\n",
        "    if title is not None:\n",
        "        plt.title(title)\n",
        "    plt.show()\n",
        "\n",
        "\n",
        "def main():\n",
        "    data = X\n",
        "    n_neighbors = 10\n",
        "\n",
        "    model_normal = SpectralEmbedding(n_components=2, n_neighbors=n_neighbors)\n",
        "    y_normal = model_normal.fit_transform(data)\n",
        "    #plot2d_label(y_normal)\n",
        "\n",
        "    ckng = cknneighbors_graph(data, n_neighbors=n_neighbors, delta=1.5)\n",
        "    model_cknn = SpectralEmbedding(n_components=2, affinity='precomputed')\n",
        "    y_cknn = model_cknn.fit_transform(ckng.toarray())\n",
        "    #plot2d_label(y_cknn)\n",
        "    print(y_cknn)\n",
        "\n",
        "main()"
      ],
      "metadata": {
        "colab": {
          "base_uri": "https://localhost:8080/"
        },
        "id": "ETGD3s42kNwx",
        "outputId": "677c1083-bc60-4941-e623-348c7604e1d7"
      },
      "execution_count": null,
      "outputs": [
        {
          "output_type": "stream",
          "name": "stdout",
          "text": [
            "[[-2.80091865e-05 -8.96669880e-06]\n",
            " [ 2.68434393e-03  3.43191616e-03]\n",
            " [-3.66100653e-05 -1.68232010e-05]\n",
            " ...\n",
            " [-2.78247732e-05 -7.12091354e-06]\n",
            " [-2.57304336e-05 -6.49856125e-06]\n",
            " [-3.54523010e-05 -1.57875109e-05]]\n"
          ]
        }
      ]
    },
    {
      "cell_type": "markdown",
      "source": [
        "**Embedded-Space**\n"
      ],
      "metadata": {
        "id": "AcgREL30sCJL"
      }
    },
    {
      "cell_type": "code",
      "source": [
        "print(\"embedded space komt hier\")"
      ],
      "metadata": {
        "id": "MHjSagZDsE4U",
        "colab": {
          "base_uri": "https://localhost:8080/"
        },
        "outputId": "6dc24d35-ca26-498e-8ecf-1c86e3c2116c"
      },
      "execution_count": null,
      "outputs": [
        {
          "output_type": "stream",
          "name": "stdout",
          "text": [
            "embedded space komt hier\n"
          ]
        }
      ]
    },
    {
      "cell_type": "code",
      "source": [
        "!pip install sklearn"
      ],
      "metadata": {
        "colab": {
          "base_uri": "https://localhost:8080/"
        },
        "id": "9NxpdDzrtfl3",
        "outputId": "dfe528b1-38cf-41f4-d990-5c224710b74a"
      },
      "execution_count": null,
      "outputs": [
        {
          "output_type": "stream",
          "name": "stdout",
          "text": [
            "Looking in indexes: https://pypi.org/simple, https://us-python.pkg.dev/colab-wheels/public/simple/\n",
            "Collecting sklearn\n",
            "  Downloading sklearn-0.0.post1.tar.gz (3.6 kB)\n",
            "Building wheels for collected packages: sklearn\n",
            "  Building wheel for sklearn (setup.py) ... \u001b[?25l\u001b[?25hdone\n",
            "  Created wheel for sklearn: filename=sklearn-0.0.post1-py3-none-any.whl size=2344 sha256=61872fca1fc30db14a9e8bfeecbe27b034f333d51dbdc8d8c2c2ce4b80c370b1\n",
            "  Stored in directory: /root/.cache/pip/wheels/42/56/cc/4a8bf86613aafd5b7f1b310477667c1fca5c51c3ae4124a003\n",
            "Successfully built sklearn\n",
            "Installing collected packages: sklearn\n",
            "Successfully installed sklearn-0.0.post1\n"
          ]
        }
      ]
    },
    {
      "cell_type": "code",
      "source": [
        "import sys\n",
        "import time\n",
        "from random import shuffle\n",
        "import numpy as np\n",
        "import argparse\n",
        "\n",
        "from keras.models import Model\n",
        "from keras.optimizers import SGD\n",
        "from keras.regularizers import l2\n",
        "from keras.layers import Input, Dense, Layer, Dropout\n",
        "\n",
        "from mil_nets.dataset import load_dataset\n",
        "from mil_nets.layer import Score_pooling\n",
        "from mil_nets.metrics import bag_accuracy\n",
        "from mil_nets.objectives import bag_loss\n",
        "from mil_nets.utils import convertToBatch"
      ],
      "metadata": {
        "id": "_sDih52xsYL9",
        "colab": {
          "base_uri": "https://localhost:8080/",
          "height": 373
        },
        "outputId": "6e803c46-abda-4946-cbbe-6098086e21da"
      },
      "execution_count": null,
      "outputs": [
        {
          "output_type": "error",
          "ename": "ModuleNotFoundError",
          "evalue": "ignored",
          "traceback": [
            "\u001b[0;31m---------------------------------------------------------------------------\u001b[0m",
            "\u001b[0;31mModuleNotFoundError\u001b[0m                       Traceback (most recent call last)",
            "\u001b[0;32m<ipython-input-8-308ee7a2bd85>\u001b[0m in \u001b[0;36m<module>\u001b[0;34m\u001b[0m\n\u001b[1;32m     10\u001b[0m \u001b[0;32mfrom\u001b[0m \u001b[0mkeras\u001b[0m\u001b[0;34m.\u001b[0m\u001b[0mlayers\u001b[0m \u001b[0;32mimport\u001b[0m \u001b[0mInput\u001b[0m\u001b[0;34m,\u001b[0m \u001b[0mDense\u001b[0m\u001b[0;34m,\u001b[0m \u001b[0mLayer\u001b[0m\u001b[0;34m,\u001b[0m \u001b[0mDropout\u001b[0m\u001b[0;34m\u001b[0m\u001b[0;34m\u001b[0m\u001b[0m\n\u001b[1;32m     11\u001b[0m \u001b[0;34m\u001b[0m\u001b[0m\n\u001b[0;32m---> 12\u001b[0;31m \u001b[0;32mfrom\u001b[0m \u001b[0mmil_nets\u001b[0m\u001b[0;34m.\u001b[0m\u001b[0mdataset\u001b[0m \u001b[0;32mimport\u001b[0m \u001b[0mload_dataset\u001b[0m\u001b[0;34m\u001b[0m\u001b[0;34m\u001b[0m\u001b[0m\n\u001b[0m\u001b[1;32m     13\u001b[0m \u001b[0;32mfrom\u001b[0m \u001b[0mmil_nets\u001b[0m\u001b[0;34m.\u001b[0m\u001b[0mlayer\u001b[0m \u001b[0;32mimport\u001b[0m \u001b[0mScore_pooling\u001b[0m\u001b[0;34m\u001b[0m\u001b[0;34m\u001b[0m\u001b[0m\n\u001b[1;32m     14\u001b[0m \u001b[0;32mfrom\u001b[0m \u001b[0mmil_nets\u001b[0m\u001b[0;34m.\u001b[0m\u001b[0mmetrics\u001b[0m \u001b[0;32mimport\u001b[0m \u001b[0mbag_accuracy\u001b[0m\u001b[0;34m\u001b[0m\u001b[0;34m\u001b[0m\u001b[0m\n",
            "\u001b[0;31mModuleNotFoundError\u001b[0m: No module named 'mil_nets'",
            "",
            "\u001b[0;31m---------------------------------------------------------------------------\u001b[0;32m\nNOTE: If your import is failing due to a missing package, you can\nmanually install dependencies using either !pip or !apt.\n\nTo view examples of installing some common dependencies, click the\n\"Open Examples\" button below.\n\u001b[0;31m---------------------------------------------------------------------------\u001b[0m\n"
          ],
          "errorDetails": {
            "actions": [
              {
                "action": "open_url",
                "actionText": "Open Examples",
                "url": "/notebooks/snippets/importing_libraries.ipynb"
              }
            ]
          }
        }
      ]
    },
    {
      "cell_type": "code",
      "source": [],
      "metadata": {
        "id": "9FVTLpR4cHTX"
      },
      "execution_count": null,
      "outputs": []
    },
    {
      "cell_type": "code",
      "source": [],
      "metadata": {
        "id": "WZLP-in_cHhD"
      },
      "execution_count": null,
      "outputs": []
    },
    {
      "cell_type": "code",
      "source": [
        "\n",
        "def parse_args():\n",
        "    \"\"\"Parse input argument.\n",
        "    Parameters\n",
        "    -------------------\n",
        "    No parameters.\n",
        "    Returns\n",
        "    -------------------\n",
        "    args: argparser.Namespace class object\n",
        "        An argparse.Namespace class object contains experimental hyper-parameters.\n",
        "    \"\"\"\n",
        "    parser = argparse.ArgumentParser(description='Train a mi-net')\n",
        "    parser.add_argument('--dataset', dest='dataset',\n",
        "                        help='dataset to train on, like musk1 or fox',\n",
        "                        default=None, type=str)\n",
        "    parser.add_argument('--pooling', dest='pooling_mode',\n",
        "                        help='mode of MIL pooling',\n",
        "                        default='max', type=str)\n",
        "    parser.add_argument('--lr', dest='init_lr',\n",
        "                        help='initial learning rate',\n",
        "                        default=5e-4, type=float)\n",
        "    parser.add_argument('--decay', dest='weight_decay',\n",
        "                        help='weight decay',\n",
        "                        default=0.005, type=float)\n",
        "    parser.add_argument('--momentum', dest='momentum',\n",
        "                        help='momentum',\n",
        "                        default=0.9, type=float)\n",
        "    parser.add_argument('--epoch', dest='max_epoch',\n",
        "                        help='number of epoch to train',\n",
        "                        default=50, type=int)\n",
        "\n",
        "    if len(sys.argv) == 1:\n",
        "        parser.print_help()\n",
        "        sys.exit(1)\n",
        "\n",
        "    args = parser.parse_args()\n",
        "    return args\n",
        "\n",
        "def test_eval(model, test_set):\n",
        "    \"\"\"Evaluate on testing set.\n",
        "    Parameters\n",
        "    -----------------\n",
        "    model : keras.engine.training.Model object\n",
        "        The training mi-Net model.\n",
        "    test_set : list\n",
        "        A list of testing set contains all training bags features and labels.\n",
        "    Returns\n",
        "    -----------------\n",
        "    test_loss : float\n",
        "        Mean loss of evaluating on testing set.\n",
        "    test_acc : float\n",
        "        Mean accuracy of evaluating on testing set.\n",
        "    \"\"\"\n",
        "    num_test_batch = len(test_set)\n",
        "    test_loss = np.zeros((num_test_batch, 1), dtype=float)\n",
        "    test_acc = np.zeros((num_test_batch, 1), dtype=float)\n",
        "    for ibatch, batch in enumerate(test_set):\n",
        "        result = model.test_on_batch({'input':batch[0]}, {'sp':batch[1]})\n",
        "        test_loss[ibatch] = result[0]\n",
        "        test_acc[ibatch] = result[1]\n",
        "    return np.mean(test_loss), np.mean(test_acc)\n",
        "\n",
        "def train_eval(model, train_set):\n",
        "    \"\"\"Evaluate on training set.\n",
        "    Parameters\n",
        "    -----------------\n",
        "    model : keras.engine.training.Model object\n",
        "        The training mi-Net model.\n",
        "    train_set : list\n",
        "        A list of training set contains all training bags features and labels.\n",
        "    Returns\n",
        "    -----------------\n",
        "    test_loss : float\n",
        "        Mean loss of evaluating on traing set.\n",
        "    test_acc : float\n",
        "        Mean accuracy of evaluating on testing set.\n",
        "    \"\"\"\n",
        "    num_train_batch = len(train_set)\n",
        "    train_loss = np.zeros((num_train_batch, 1), dtype=float)\n",
        "    train_acc = np.zeros((num_train_batch, 1), dtype=float)\n",
        "    shuffle(train_set)\n",
        "    for ibatch, batch in enumerate(train_set):\n",
        "        result = model.train_on_batch({'input':batch[0]}, {'sp':batch[1]})\n",
        "        train_loss[ibatch] = result[0]\n",
        "        train_acc[ibatch] = result[1]\n",
        "    return np.mean(train_loss), np.mean(train_acc)\n",
        "\n",
        "def mi_Net(dataset):\n",
        "    \"\"\"Train and evaluate on mi-Net.\n",
        "    Parameters\n",
        "    -----------------\n",
        "    dataset : dict\n",
        "        A dictionary contains all dataset information. We split train/test by keys.\n",
        "    Returns\n",
        "    -----------------\n",
        "    test_acc : float\n",
        "        Testing accuracy of mi-Net.\n",
        "    \"\"\"\n",
        "    # load data and convert type\n",
        "    train_bags = dataset['train']\n",
        "    test_bags = dataset['test']\n",
        "\n",
        "    # convert bag to batch\n",
        "    train_set = convertToBatch(train_bags)\n",
        "    test_set = convertToBatch(test_bags)\n",
        "    dimension = train_set[0][0].shape[1]\n",
        "\n",
        "    # data: instance feature, n*d, n = number of training instance\n",
        "    data_input = Input(shape=(dimension,), dtype='float32', name='input')\n",
        "\n",
        "    # fully-connected\n",
        "    fc1 = Dense(256, activation='relu', kernel_regularizer=l2(args.weight_decay))(data_input)\n",
        "    fc2 = Dense(128, activation='relu', kernel_regularizer=l2(args.weight_decay))(fc1)\n",
        "    fc3 = Dense(64, activation='relu', kernel_regularizer=l2(args.weight_decay))(fc2)\n",
        "\n",
        "    # dropout\n",
        "    dropout = Dropout(rate=0.5)(fc3)\n",
        "\n",
        "    # score pooling\n",
        "    sp = Score_pooling(output_dim=1, kernel_regularizer=l2(args.weight_decay), pooling_mode=args.pooling_mode, name='sp')(dropout)\n",
        "\n",
        "    model = Model(inputs=[data_input], outputs=[sp])\n",
        "    sgd = SGD(lr=args.init_lr, decay=1e-4, momentum=args.momentum, nesterov=True)\n",
        "    model.compile(loss=bag_loss, optimizer=sgd, metrics=[bag_accuracy])\n",
        "\n",
        "    # train model\n",
        "    t1 = time.time()\n",
        "    num_batch = len(train_set)\n",
        "    for epoch in range(args.max_epoch):\n",
        "        train_loss, train_acc = train_eval(model, train_set)\n",
        "        test_loss, test_acc = test_eval(model, test_set)\n",
        "        print('epoch=', epoch, '  train_loss= {:.3f}'.format(train_loss), '  train_acc= {:.3f}'.format(train_acc), '  test_loss={:.3f}'.format(test_loss), '  test_acc= {:.3f}'.format(test_acc))\n",
        "    t2 = time.time()\n",
        "    print('run time:', (t2-t1) / 60.0, 'min')\n",
        "    print('test_acc={:.3f}'.format(test_acc))\n",
        "\n",
        "    return test_acc\n"
      ],
      "metadata": {
        "id": "F6FqGP2ss4nY"
      },
      "execution_count": null,
      "outputs": []
    },
    {
      "cell_type": "code",
      "source": [
        "    # perform five times 10-fold cross-validation experiments\n",
        "    run = 5\n",
        "    n_folds = 10\n",
        "    acc = np.zeros((run, n_folds), dtype=float)\n",
        "    for irun in range(run):\n",
        "        dataset = load_dataset('musk1', n_folds)\n",
        "        for ifold in range(n_folds):\n",
        "            print('run=', irun, '  fold=', ifold)\n",
        "            acc[irun][ifold] = mi_Net(dataset[ifold])\n",
        "    print('mi-net mean accuracy = ', np.mean(acc))\n",
        "    print('std = ', np.std(acc))"
      ],
      "metadata": {
        "id": "7ahoLSg5vMxp",
        "colab": {
          "base_uri": "https://localhost:8080/",
          "height": 235
        },
        "outputId": "13625a5b-3823-421c-ee82-42db7607fa1f"
      },
      "execution_count": null,
      "outputs": [
        {
          "output_type": "error",
          "ename": "NameError",
          "evalue": "ignored",
          "traceback": [
            "\u001b[0;31m---------------------------------------------------------------------------\u001b[0m",
            "\u001b[0;31mNameError\u001b[0m                                 Traceback (most recent call last)",
            "\u001b[0;32m<ipython-input-4-fb54a0126cee>\u001b[0m in \u001b[0;36m<module>\u001b[0;34m\u001b[0m\n\u001b[1;32m      2\u001b[0m \u001b[0mrun\u001b[0m \u001b[0;34m=\u001b[0m \u001b[0;36m5\u001b[0m\u001b[0;34m\u001b[0m\u001b[0;34m\u001b[0m\u001b[0m\n\u001b[1;32m      3\u001b[0m \u001b[0mn_folds\u001b[0m \u001b[0;34m=\u001b[0m \u001b[0;36m10\u001b[0m\u001b[0;34m\u001b[0m\u001b[0;34m\u001b[0m\u001b[0m\n\u001b[0;32m----> 4\u001b[0;31m \u001b[0macc\u001b[0m \u001b[0;34m=\u001b[0m \u001b[0mnp\u001b[0m\u001b[0;34m.\u001b[0m\u001b[0mzeros\u001b[0m\u001b[0;34m(\u001b[0m\u001b[0;34m(\u001b[0m\u001b[0mrun\u001b[0m\u001b[0;34m,\u001b[0m \u001b[0mn_folds\u001b[0m\u001b[0;34m)\u001b[0m\u001b[0;34m,\u001b[0m \u001b[0mdtype\u001b[0m\u001b[0;34m=\u001b[0m\u001b[0mfloat\u001b[0m\u001b[0;34m)\u001b[0m\u001b[0;34m\u001b[0m\u001b[0;34m\u001b[0m\u001b[0m\n\u001b[0m\u001b[1;32m      5\u001b[0m \u001b[0;32mfor\u001b[0m \u001b[0mirun\u001b[0m \u001b[0;32min\u001b[0m \u001b[0mrange\u001b[0m\u001b[0;34m(\u001b[0m\u001b[0mrun\u001b[0m\u001b[0;34m)\u001b[0m\u001b[0;34m:\u001b[0m\u001b[0;34m\u001b[0m\u001b[0;34m\u001b[0m\u001b[0m\n\u001b[1;32m      6\u001b[0m     \u001b[0mdataset\u001b[0m \u001b[0;34m=\u001b[0m \u001b[0mload_dataset\u001b[0m\u001b[0;34m(\u001b[0m\u001b[0;34m'musk1'\u001b[0m\u001b[0;34m,\u001b[0m \u001b[0mn_folds\u001b[0m\u001b[0;34m)\u001b[0m\u001b[0;34m\u001b[0m\u001b[0;34m\u001b[0m\u001b[0m\n",
            "\u001b[0;31mNameError\u001b[0m: name 'np' is not defined"
          ]
        }
      ]
    },
    {
      "cell_type": "code",
      "source": [],
      "metadata": {
        "id": "qkCJLi5nxsiP"
      },
      "execution_count": null,
      "outputs": []
    }
  ]
}